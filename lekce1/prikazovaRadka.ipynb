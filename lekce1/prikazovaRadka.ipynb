{
 "nbformat": 4,
 "nbformat_minor": 2,
 "metadata": {
  "language_info": {
   "name": "python",
   "codemirror_mode": {
    "name": "ipython",
    "version": 3
   },
   "version": "3.7.1-final"
  },
  "orig_nbformat": 2,
  "file_extension": ".py",
  "mimetype": "text/x-python",
  "name": "python",
  "npconvert_exporter": "python",
  "pygments_lexer": "ipython3",
  "version": 3,
  "kernelspec": {
   "name": "python37164bit7f0e7b598a744d1097a1b195bb1e9d19",
   "display_name": "Python 3.7.1 64-bit"
  }
 },
 "cells": [
  {
   "cell_type": "markdown",
   "execution_count": 5,
   "metadata": {},
   "outputs": [
    {
     "ename": "SyntaxError",
     "evalue": "invalid syntax (<ipython-input-5-29bbb63e2f9a>, line 1)",
     "output_type": "error",
     "traceback": [
      "\u001b[1;36m  File \u001b[1;32m\"<ipython-input-5-29bbb63e2f9a>\"\u001b[1;36m, line \u001b[1;32m1\u001b[0m\n\u001b[1;33m    *Zakladni prikazy v prikazove radce (cmd)*\u001b[0m\n\u001b[1;37m                    ^\u001b[0m\n\u001b[1;31mSyntaxError\u001b[0m\u001b[1;31m:\u001b[0m invalid syntax\n"
     ]
    }
   ],
   "source": [
    "*Zakladni prikazy v prikazove radce (cmd)*\n",
    "pro Windows\n",
    "\n",
    "whoami # prihlasovaci jmeno  \n",
    "cd # current directory / change directory    \n",
    "dir # vypíše, co aktuální adresář obsahuje  \n",
    "mkdir # vytvoreni adresare  \n",
    "cd .. # nadrazeny adresare  \n",
    "rmdir # remove directory  \n",
    "copy # zkopírování souboru (copy puvodni.txt kopie.txt)  \n",
    "del # mazani souboru  \n",
    "exit # ukonceni\t\n",
    "  \n",
    "    \n",
    "      \n",
    "*Virtualni prostredi*  \n",
    "py -3 -m venv venv # vytvoren  \n",
    "venv\\Scripts\\activate # aktivuj  \n",
    "Set-ExecutionPolicy -ExecutionPolicy RemoteSigned -Scope CurrentUser\n",
    "\n",
    "\n",
    "\n"
   ]
  },
  {
   "cell_type": "code",
   "execution_count": null,
   "metadata": {},
   "outputs": [],
   "source": []
  }
 ]
}