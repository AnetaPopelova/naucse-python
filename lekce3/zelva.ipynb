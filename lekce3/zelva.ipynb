{
 "nbformat": 4,
 "nbformat_minor": 2,
 "metadata": {
  "language_info": {
   "name": "python",
   "codemirror_mode": {
    "name": "ipython",
    "version": 3
   },
   "version": "3.7.1-final"
  },
  "orig_nbformat": 2,
  "file_extension": ".py",
  "mimetype": "text/x-python",
  "name": "python",
  "npconvert_exporter": "python",
  "pygments_lexer": "ipython3",
  "version": 3,
  "kernelspec": {
   "name": "python37164bit7f0e7b598a744d1097a1b195bb1e9d19",
   "display_name": "Python 3.7.1 64-bit"
  }
 },
 "cells": [
  {
   "cell_type": "code",
   "execution_count": 1,
   "metadata": {},
   "outputs": [],
   "source": [
    "from turtle import forward\n",
    "\n",
    "forward(50)"
   ]
  },
  {
   "cell_type": "code",
   "execution_count": 2,
   "metadata": {},
   "outputs": [],
   "source": [
    "from turtle import shape\n",
    "\n",
    "shape('turtle')"
   ]
  },
  {
   "cell_type": "code",
   "execution_count": 1,
   "metadata": {},
   "outputs": [],
   "source": [
    "from turtle import forward, left, right\n",
    "\n",
    "forward(50)\n",
    "left(60)\n",
    "forward(50)\n",
    "right(60)\n",
    "forward(50)"
   ]
  },
  {
   "cell_type": "code",
   "execution_count": 3,
   "metadata": {},
   "outputs": [],
   "source": [
    "## ctverec\n",
    "\n",
    "from turtle import forward, left, exitonclick\n",
    "\n",
    "forward(60)\n",
    "left(90)\n",
    "forward(60)\n",
    "left(90)\n",
    "forward(60)\n",
    "left(90)\n",
    "forward(60)\n",
    "left(90)\n",
    "exitonclick()\n"
   ]
  },
  {
   "cell_type": "code",
   "execution_count": 5,
   "metadata": {},
   "outputs": [],
   "source": [
    "## obdelnik\n",
    "\n",
    "from turtle import forward, left, exitonclick\n",
    "\n",
    "forward(60)\n",
    "left(90)\n",
    "forward(30)\n",
    "left(90)\n",
    "forward(60)\n",
    "left(90)\n",
    "forward(30)\n",
    "left(90)\n",
    "exitonclick()"
   ]
  },
  {
   "cell_type": "code",
   "execution_count": 7,
   "metadata": {},
   "outputs": [],
   "source": [
    "## tri ctverce\n",
    "## Nakresli tři čtverce, každý otočený třeba o 20°.\n",
    "\n",
    "from turtle import forward, left, exitonclick\n",
    "\n",
    "forward(60)\n",
    "left(90)\n",
    "forward(60)\n",
    "left(90)\n",
    "forward(60)\n",
    "left(90)\n",
    "forward(60)\n",
    "left(90)\n",
    "\n",
    "left(20)\n",
    "\n",
    "forward(60)\n",
    "left(90)\n",
    "forward(60)\n",
    "left(90)\n",
    "forward(60)\n",
    "left(90)\n",
    "forward(60)\n",
    "left(90)\n",
    "\n",
    "left(20)\n",
    "\n",
    "forward(60)\n",
    "left(90)\n",
    "forward(60)\n",
    "left(90)\n",
    "forward(60)\n",
    "left(90)\n",
    "forward(60)\n",
    "left(90)\n",
    "\n",
    "exitonclick()\n",
    "\n",
    "\n"
   ]
  },
  {
   "cell_type": "code",
   "execution_count": null,
   "metadata": {},
   "outputs": [],
   "source": [
    "## for\n",
    "\n",
    "# Příkaz for opakuje část programu. Opakují se příkazy, které jsou pod for-em odsazené. Podobně jako se if vztahuje jen na odsazené příkazy pod ním.\n",
    "\n",
    "# Příkaz for x in range(n): opakuje příkazy pod ním n-krát a proměnnou x nastaví postupně na čísla od 0 do n-1.\n",
    "\n",
    "# Příkaz for x in a, b, c, d, ...: opakuje příkazy pod ním; proměnnou x nastavuje postupně na a, b, c d, ...\n",
    "\n",
    "\n",
    "for cislo in range(5):\n",
    "    print(cislo)\n",
    "\n",
    "for pozdrav in 'Ahoj', 'Hello', 'Hola', 'Hei', 'SYN':\n",
    "    print(pozdrav + '!')\n",
    "\n"
   ]
  },
  {
   "cell_type": "code",
   "execution_count": 8,
   "metadata": {},
   "outputs": [
    {
     "name": "stdout",
     "output_type": "stream",
     "text": "83\n"
    }
   ],
   "source": [
    "# Přepisování proměnných\n",
    "\n",
    "# Příkaz soucet = soucet + cislo vypočítá hodnotu soucet + cislo, tedy přičte aktuální číslo k součtu a výsledek uloží do proměnné soucet. Nová hodnota součtu se pak použije v dalším průchodu cyklem.\n",
    "\n",
    "# Na začátku je součet 0 a na konci se součet všech čísel vypíše.\n",
    "\n",
    "soucet = 0\n",
    "\n",
    "for cislo in 8, 45, 9, 21:\n",
    "    soucet = soucet + cislo\n",
    "\n",
    "print(soucet)\n"
   ]
  },
  {
   "cell_type": "code",
   "execution_count": 12,
   "metadata": {},
   "outputs": [],
   "source": [
    "from turtle import left, forward, exitonclick\n",
    "\n",
    "for i in range(4):\n",
    "    forward(60)\n",
    "    left(90)\n",
    "\n",
    "exitonclick()"
   ]
  },
  {
   "cell_type": "code",
   "execution_count": 3,
   "metadata": {},
   "outputs": [],
   "source": [
    "# Zkus nakreslit přerušovanou čáru.\n",
    "\n",
    "from turtle import penup, pendown, forward, exitonclick\n",
    "\n",
    "for i in range(10):\n",
    "    forward(10)\n",
    "    penup()\n",
    "    forward(5)\n",
    "    pendown()\n",
    "\n",
    "exitonclick()\n"
   ]
  },
  {
   "cell_type": "code",
   "execution_count": 5,
   "metadata": {},
   "outputs": [],
   "source": [
    "# zkus zařídit, aby jednotlivé čárky byly postupně větší a větší\n",
    "\n",
    "\n",
    "for i in range(20):\n",
    "    forward(i)\n",
    "    penup()\n",
    "    forward(5)\n",
    "    pendown()\n",
    "\n",
    "exitonclick()\n",
    "\n"
   ]
  },
  {
   "cell_type": "code",
   "execution_count": 11,
   "metadata": {},
   "outputs": [],
   "source": [
    "## tri ctverce\n",
    "\n",
    "from turtle import forward, left, exitonclick\n",
    "\n",
    "for i in range(3):\n",
    "    for j in range(4):\n",
    "        forward(60)\n",
    "        left(90)\n",
    "    left(20)\n",
    "\n",
    "exitonclick()"
   ]
  },
  {
   "cell_type": "code",
   "execution_count": 15,
   "metadata": {},
   "outputs": [],
   "source": [
    "## zkus nakreslit schody\n",
    "\n",
    "from turtle import forward, left, exitonclick, right\n",
    "\n",
    "for i in range(6):\n",
    "    forward(20)\n",
    "    left(90)\n",
    "    forward(20)\n",
    "    right(90)\n",
    "\n",
    "exitonclick()\n",
    "\n"
   ]
  },
  {
   "cell_type": "code",
   "execution_count": 5,
   "metadata": {},
   "outputs": [
    {
     "name": "stdout",
     "output_type": "stream",
     "text": "59.999999999999986\n"
    }
   ],
   "source": [
    "## zkus nakreslit těchto šest (nebo sedm?) šestiúhelníků\n",
    "\n",
    "from turtle import forward, left, right, penup, pendown, exitonclick\n",
    "\n",
    "uhel = 180 - 180 * (1 - 2/6)\n",
    "vzdalenost = 50\n",
    "print(uhel)\n",
    "\n",
    "for sestiuhel in range(6):\n",
    "    for strana in range(6):\n",
    "        forward(vzdalenost)\n",
    "        left(uhel)\n",
    "    right(uhel * 1)\n",
    "    penup()\n",
    "    forward(vzdalenost * 2)\n",
    "    pendown()\n",
    "    left(uhel * 2)\n",
    "\n",
    "exitonclick()"
   ]
  },
  {
   "cell_type": "code",
   "execution_count": 17,
   "metadata": {},
   "outputs": [
    {
     "ename": "Terminator",
     "evalue": "",
     "output_type": "error",
     "traceback": [
      "\u001b[1;31m---------------------------------------------------------------------------\u001b[0m",
      "\u001b[1;31mTerminator\u001b[0m                                Traceback (most recent call last)",
      "\u001b[1;32m<ipython-input-17-0a58ef564043>\u001b[0m in \u001b[0;36m<module>\u001b[1;34m\u001b[0m\n\u001b[0;32m     41\u001b[0m                 \u001b[0mmove\u001b[0m\u001b[1;33m(\u001b[0m\u001b[1;36m0\u001b[0m\u001b[1;33m,\u001b[0m\u001b[1;36m60\u001b[0m\u001b[1;33m)\u001b[0m\u001b[1;33m\u001b[0m\u001b[1;33m\u001b[0m\u001b[0m\n\u001b[0;32m     42\u001b[0m                 \u001b[1;32mfor\u001b[0m \u001b[0mj\u001b[0m \u001b[1;32min\u001b[0m \u001b[0mrange\u001b[0m \u001b[1;33m(\u001b[0m\u001b[0mcircle\u001b[0m\u001b[1;33m+\u001b[0m\u001b[1;36m1\u001b[0m\u001b[1;33m)\u001b[0m\u001b[1;33m:\u001b[0m\u001b[1;33m\u001b[0m\u001b[1;33m\u001b[0m\u001b[0m\n\u001b[1;32m---> 43\u001b[1;33m                         \u001b[0mhex\u001b[0m\u001b[1;33m(\u001b[0m\u001b[1;33m)\u001b[0m\u001b[1;33m\u001b[0m\u001b[1;33m\u001b[0m\u001b[0m\n\u001b[0m\u001b[0;32m     44\u001b[0m                         \u001b[0mmove\u001b[0m\u001b[1;33m(\u001b[0m\u001b[0msize\u001b[0m\u001b[1;33m,\u001b[0m\u001b[1;33m-\u001b[0m\u001b[1;36m60\u001b[0m\u001b[1;33m)\u001b[0m\u001b[1;33m\u001b[0m\u001b[1;33m\u001b[0m\u001b[0m\n\u001b[0;32m     45\u001b[0m                         \u001b[0mmove\u001b[0m\u001b[1;33m(\u001b[0m\u001b[0msize\u001b[0m\u001b[1;33m,\u001b[0m\u001b[1;36m60\u001b[0m\u001b[1;33m)\u001b[0m\u001b[1;33m\u001b[0m\u001b[1;33m\u001b[0m\u001b[0m\n",
      "\u001b[1;32m<ipython-input-17-0a58ef564043>\u001b[0m in \u001b[0;36mhex\u001b[1;34m()\u001b[0m\n\u001b[0;32m     24\u001b[0m         \u001b[0mturtle\u001b[0m\u001b[1;33m.\u001b[0m\u001b[0mbegin_fill\u001b[0m\u001b[1;33m(\u001b[0m\u001b[1;33m)\u001b[0m\u001b[1;33m\u001b[0m\u001b[1;33m\u001b[0m\u001b[0m\n\u001b[0;32m     25\u001b[0m         \u001b[1;32mfor\u001b[0m \u001b[0mi\u001b[0m \u001b[1;32min\u001b[0m \u001b[0mrange\u001b[0m\u001b[1;33m(\u001b[0m\u001b[1;36m6\u001b[0m\u001b[1;33m)\u001b[0m\u001b[1;33m:\u001b[0m\u001b[1;33m\u001b[0m\u001b[1;33m\u001b[0m\u001b[0m\n\u001b[1;32m---> 26\u001b[1;33m                 \u001b[0mmove\u001b[0m\u001b[1;33m(\u001b[0m\u001b[0msize\u001b[0m\u001b[1;33m,\u001b[0m\u001b[1;33m-\u001b[0m\u001b[1;36m60\u001b[0m\u001b[1;33m)\u001b[0m\u001b[1;33m\u001b[0m\u001b[1;33m\u001b[0m\u001b[0m\n\u001b[0m\u001b[0;32m     27\u001b[0m         \u001b[0mturtle\u001b[0m\u001b[1;33m.\u001b[0m\u001b[0mend_fill\u001b[0m\u001b[1;33m(\u001b[0m\u001b[1;33m)\u001b[0m\u001b[1;33m\u001b[0m\u001b[1;33m\u001b[0m\u001b[0m\n\u001b[0;32m     28\u001b[0m         \u001b[0mturtle\u001b[0m\u001b[1;33m.\u001b[0m\u001b[0mpenup\u001b[0m\u001b[1;33m(\u001b[0m\u001b[1;33m)\u001b[0m\u001b[1;33m\u001b[0m\u001b[1;33m\u001b[0m\u001b[0m\n",
      "\u001b[1;32m<ipython-input-17-0a58ef564043>\u001b[0m in \u001b[0;36mmove\u001b[1;34m(length, angle)\u001b[0m\n\u001b[0;32m     17\u001b[0m \u001b[1;32mdef\u001b[0m \u001b[0mmove\u001b[0m\u001b[1;33m(\u001b[0m\u001b[0mlength\u001b[0m\u001b[1;33m,\u001b[0m \u001b[0mangle\u001b[0m\u001b[1;33m)\u001b[0m\u001b[1;33m:\u001b[0m\u001b[1;33m\u001b[0m\u001b[1;33m\u001b[0m\u001b[0m\n\u001b[0;32m     18\u001b[0m                 \u001b[0mturtle\u001b[0m\u001b[1;33m.\u001b[0m\u001b[0mright\u001b[0m\u001b[1;33m(\u001b[0m\u001b[0mangle\u001b[0m\u001b[1;33m)\u001b[0m\u001b[1;33m\u001b[0m\u001b[1;33m\u001b[0m\u001b[0m\n\u001b[1;32m---> 19\u001b[1;33m                 \u001b[0mturtle\u001b[0m\u001b[1;33m.\u001b[0m\u001b[0mforward\u001b[0m\u001b[1;33m(\u001b[0m\u001b[0mlength\u001b[0m\u001b[1;33m)\u001b[0m\u001b[1;33m\u001b[0m\u001b[1;33m\u001b[0m\u001b[0m\n\u001b[0m\u001b[0;32m     20\u001b[0m \u001b[1;33m\u001b[0m\u001b[0m\n\u001b[0;32m     21\u001b[0m \u001b[1;32mdef\u001b[0m \u001b[0mhex\u001b[0m\u001b[1;33m(\u001b[0m\u001b[1;33m)\u001b[0m\u001b[1;33m:\u001b[0m\u001b[1;33m\u001b[0m\u001b[1;33m\u001b[0m\u001b[0m\n",
      "\u001b[1;32m~\\AppData\\Local\\Programs\\Python\\Python37\\lib\\turtle.py\u001b[0m in \u001b[0;36mforward\u001b[1;34m(distance)\u001b[0m\n",
      "\u001b[1;31mTerminator\u001b[0m: "
     ]
    }
   ],
   "source": [
    "\n",
    "\n",
    "# turtle honeycomb\n",
    "# Lasse Kosiol\n",
    "# 1.9.2012\n",
    "# python workshop opentechschool berlin\n",
    "\n",
    "import turtle\n",
    "from random import randint\n",
    "\n",
    "size = 20\n",
    "circles = 20\n",
    "turtle.speed(100)\n",
    "\n",
    "turtle.colormode(255)\n",
    "\n",
    "def move(length, angle):\n",
    "                turtle.right(angle)\n",
    "                turtle.forward(length)\n",
    "\n",
    "def hex():\n",
    "        turtle.pendown()\n",
    "        turtle.color( randint(0,255),randint(0,255),randint(0,255) )\n",
    "        turtle.begin_fill()\n",
    "        for i in range(6):\n",
    "                move(size,-60)\n",
    "        turtle.end_fill()\n",
    "        turtle.penup()\n",
    "\n",
    "# start\n",
    "turtle.penup()\n",
    "\n",
    "for circle in range (circles):\n",
    "        if circle == 0:\n",
    "                hex()\n",
    "                move(size,-60)\n",
    "                move(size,-60)\n",
    "                move(size,-60)\n",
    "                move(0,180)\n",
    "        for i in range (6):\n",
    "                move(0,60)\n",
    "                for j in range (circle+1):\n",
    "                        hex()\n",
    "                        move(size,-60)\n",
    "                        move(size,60)\n",
    "                move(-size,0)\n",
    "        move(-size,60)\n",
    "        move(size,-120)\n",
    "        move(0,60)\n",
    "\n",
    "turtle.exitonclick()"
   ]
  }
 ]
}