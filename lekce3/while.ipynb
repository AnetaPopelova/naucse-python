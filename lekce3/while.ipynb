{
 "nbformat": 4,
 "nbformat_minor": 2,
 "metadata": {
  "language_info": {
   "name": "python",
   "codemirror_mode": {
    "name": "ipython",
    "version": 3
   },
   "version": "3.7.1-final"
  },
  "orig_nbformat": 2,
  "file_extension": ".py",
  "mimetype": "text/x-python",
  "name": "python",
  "npconvert_exporter": "python",
  "pygments_lexer": "ipython3",
  "version": 3,
  "kernelspec": {
   "name": "python37164bit7f0e7b598a744d1097a1b195bb1e9d19",
   "display_name": "Python 3.7.1 64-bit"
  }
 },
 "cells": [
  {
   "cell_type": "code",
   "execution_count": 1,
   "metadata": {},
   "outputs": [
    {
     "name": "stdout",
     "output_type": "stream",
     "text": "Špatně, zkus to znovu\n"
    }
   ],
   "source": [
    "odpoved = input('Řekni Ááá! ')\n",
    "while odpoved != 'Ááá':\n",
    "    print('Špatně, zkus to znovu')\n",
    "    odpoved = input('Řekni Ááá! ')"
   ]
  },
  {
   "cell_type": "code",
   "execution_count": null,
   "metadata": {},
   "outputs": [],
   "source": [
    "## nekonecny cyklus!!!!!!\n",
    "## zachrani te ctrl + c\n",
    "\n",
    "from random import randrange\n",
    "\n",
    "while True:\n",
    "    print('Číslo je', randrange(10000))\n",
    "    print('(Počkej, než se počítač unaví...)')"
   ]
  },
  {
   "cell_type": "code",
   "execution_count": null,
   "metadata": {},
   "outputs": [],
   "source": [
    "## break\n",
    "## z cyklu „vyskočí“--> začnou se hned vykonávat příkazy za cyklem\n",
    "\n",
    "while True:\n",
    "    odpoved = input('Řekni Ááá! ')\n",
    "    if odpoved == 'Ááá':\n",
    "        print('Bééé')\n",
    "        break\n",
    "    print('Špatně, zkus to znovu')\n",
    "\n",
    "print('Hotovo, ani to nebolelo.')\n",
    "\n",
    "## Příkaz break se dá použít jenom v cyklu (while nebo for) a pokud máme víc cyklů zanořených v sobě, vyskočí jen z toho vnitřního."
   ]
  }
 ]
}