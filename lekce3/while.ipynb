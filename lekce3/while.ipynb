{
 "nbformat": 4,
 "nbformat_minor": 2,
 "metadata": {
  "language_info": {
   "name": "python",
   "codemirror_mode": {
    "name": "ipython",
    "version": 3
   },
   "version": "3.7.1-final"
  },
  "orig_nbformat": 2,
  "file_extension": ".py",
  "mimetype": "text/x-python",
  "name": "python",
  "npconvert_exporter": "python",
  "pygments_lexer": "ipython3",
  "version": 3,
  "kernelspec": {
   "name": "python37164bit7f0e7b598a744d1097a1b195bb1e9d19",
   "display_name": "Python 3.7.1 64-bit"
  }
 },
 "cells": [
  {
   "cell_type": "code",
   "execution_count": 1,
   "metadata": {},
   "outputs": [
    {
     "name": "stdout",
     "output_type": "stream",
     "text": "Špatně, zkus to znovu\n"
    }
   ],
   "source": [
    "odpoved = input('Řekni Ááá! ')\n",
    "while odpoved != 'Ááá':\n",
    "    print('Špatně, zkus to znovu')\n",
    "    odpoved = input('Řekni Ááá! ')"
   ]
  },
  {
   "cell_type": "code",
   "execution_count": null,
   "metadata": {},
   "outputs": [],
   "source": [
    "## nekonecny cyklus!!!!!!\n",
    "## zachrani te ctrl + c\n",
    "\n",
    "from random import randrange\n",
    "\n",
    "while True:\n",
    "    print('Číslo je', randrange(10000))\n",
    "    print('(Počkej, než se počítač unaví...)')"
   ]
  },
  {
   "cell_type": "code",
   "execution_count": null,
   "metadata": {},
   "outputs": [],
   "source": [
    "## break\n",
    "## z cyklu „vyskočí“--> začnou se hned vykonávat příkazy za cyklem\n",
    "\n",
    "while True:\n",
    "    odpoved = input('Řekni Ááá! ')\n",
    "    if odpoved == 'Ááá':\n",
    "        print('Bééé')\n",
    "        break\n",
    "    print('Špatně, zkus to znovu')\n",
    "\n",
    "print('Hotovo, ani to nebolelo.')\n",
    "\n",
    "## Příkaz break se dá použít jenom v cyklu (while nebo for) a pokud máme víc cyklů zanořených v sobě, vyskočí jen z toho vnitřního.\n",
    "\n",
    "for i in range(10):  # Vnější cyklus\n",
    "    for j in range(10):  # Vnitřní cyklus\n",
    "        print(j * i, end=' ')\n",
    "        if i <= j:\n",
    "            break\n",
    "    print()"
   ]
  },
  {
   "cell_type": "code",
   "execution_count": 10,
   "metadata": {},
   "outputs": [
    {
     "name": "stdout",
     "output_type": "stream",
     "text": "Mas 0 bodu. \nNerozumin reci tveho kmene! Odpovez \"ano\" nebo \"ne\". \nMas 0 bodu. \nOtocil/a jsi 6\nMas 6 bodu. \nOtocil/a jsi 4\nMas 10 bodu. \nChybělo jen 11 bodů!\n"
    }
   ],
   "source": [
    "## oko bere\n",
    "\n",
    "# Začínáš s 0 body.\n",
    "# Počítač v každém kole vypíše, kolik máš bodů, a zeptá se tě, jestli chceš pokračovat.\n",
    "# Pokud odpovíš „ne“, hra končí.\n",
    "# Pokud odpovíš „ano“, počítač „otočí kartu“ (náhodně vybere číslo od 2 do 10), vypíše její hodnotu a přičte ji k bodům.\n",
    "# Pokud máš víc než 21 bodů, prohráváš.\n",
    "# Cílem hry je získat co nejvíc bodů, ideálně 21.\n",
    "\n",
    "from random import randrange\n",
    "\n",
    "body = 0\n",
    "while body < 21:\n",
    "    print('Mas', body, 'bodu. ')\n",
    "    pokracovat = input('Chces pokracovat? ano / ne ')\n",
    "    if pokracovat == 'ano':\n",
    "        karta = randrange(2, 11)        \n",
    "        print('Otocil/a jsi', karta)\n",
    "        body = body + karta\n",
    "    elif pokracovat == 'ne':\n",
    "        break\n",
    "    else:\n",
    "        print('Nerozumin reci tveho kmene! Odpovez \"ano\" nebo \"ne\". ')\n",
    "\n",
    "if body == 21:\n",
    "    print('Gratuluji! Vyhrál/a jsi!')\n",
    "elif body > 21:\n",
    "    print('Smůla!', body, 'bodů je moc!')\n",
    "else:\n",
    "    # malo bodu a ukoncena hra\n",
    "    print('Chybělo jen', 21 - body, 'bodů!')\n",
    "\n",
    "\n",
    "\n",
    "\n"
   ]
  },
  {
   "cell_type": "code",
   "execution_count": null,
   "metadata": {},
   "outputs": [],
   "source": []
  }
 ]
}