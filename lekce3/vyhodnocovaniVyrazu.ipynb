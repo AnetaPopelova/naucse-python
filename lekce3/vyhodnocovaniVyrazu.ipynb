{
 "cells": [
  {
   "cell_type": "code",
   "execution_count": null,
   "metadata": {},
   "outputs": [],
   "source": [
    "a = 2\n",
    "b = 5\n",
    "c = 3\n",
    "\n",
    "\n",
    "x = -b + (b ** 2 + 4 * a * c) ** 0.5 / (2 * a)\n",
    "#    |    |            |   |                |\n",
    "x = -5 + (5 ** 2 + 4 * 2 * 3) ** 0.5 / (2 * 2)\n",
    "#         ╰──┬─╯   ╰─┬─╯               ╰──┬──╯\n",
    "x = -5 + (  25   +   8   * 3) ** 0.5 /    4\n",
    "#                   ╰────┬─╯\n",
    "x = -5 + (  25   +      24  ) ** 0.5 /    4\n",
    "#        ╰───────┬──────────╯\n",
    "x = -5 +         49           ** 0.5 /    4\n",
    "#                ╰──────┬──────────╯\n",
    "x = -5 +               7.0           /    4\n",
    "#                      ╰─────────────┬────╯\n",
    "x = -5 +                            1.75\n",
    "#   ╰──────────────┬───────────────────╯\n",
    "x =              -3.25"
   ]
  },
  {
   "cell_type": "code",
   "execution_count": null,
   "metadata": {},
   "outputs": [],
   "source": [
    "strana = -5\n",
    "\n",
    "if strana <= 0:\n",
    "    print(\"Strana musí být kladná!\")\n",
    "\n",
    "    "
   ]
  }
 ],
 "metadata": {
  "file_extension": ".py",
  "jupytext": {
   "formats": "ipynb,py"
  },
  "language_info": {
   "codemirror_mode": {
    "name": "ipython",
    "version": 3
   },
   "name": "python"
  },
  "mimetype": "text/x-python",
  "name": "python",
  "npconvert_exporter": "python",
  "pygments_lexer": "ipython3",
  "version": 3
 },
 "nbformat": 4,
 "nbformat_minor": 2
}
