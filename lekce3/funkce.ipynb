{
 "nbformat": 4,
 "nbformat_minor": 2,
 "metadata": {
  "language_info": {
   "name": "python",
   "codemirror_mode": {
    "name": "ipython",
    "version": 3
   },
   "version": "3.7.1-final"
  },
  "orig_nbformat": 2,
  "file_extension": ".py",
  "mimetype": "text/x-python",
  "name": "python",
  "npconvert_exporter": "python",
  "pygments_lexer": "ipython3",
  "version": 3,
  "kernelspec": {
   "name": "python37164bit7f0e7b598a744d1097a1b195bb1e9d19",
   "display_name": "Python 3.7.1 64-bit"
  }
 },
 "cells": [
  {
   "cell_type": "code",
   "execution_count": null,
   "metadata": {},
   "outputs": [],
   "source": [
    "## Jedna operace, na kterou v Pythonu není symbol, je zjištění délky řetězce. Místo symbolu má název. \n",
    "\n",
    "slovo = 'Ahoj'\n",
    "delka = len(slovo)      # Vypočítání délky\n",
    "print(delka)"
   ]
  },
  {
   "cell_type": "code",
   "execution_count": null,
   "metadata": {},
   "outputs": [],
   "source": [
    "delka = len('Ahoj') + len('!')\n",
    "#        ╰──┬─────╯    ╰─┬───╯\n",
    "delka =     4       +    1\n",
    "#           ╰───────┬────╯\n",
    "delka =             5"
   ]
  },
  {
   "cell_type": "code",
   "execution_count": null,
   "metadata": {},
   "outputs": [],
   "source": [
    "if len('Ahoj!') <= 3:\n",
    "    print('pozdrav je krátký')\n",
    "\n",
    "   len('Ahoj!') <= 3\n",
    "#  ╰─────┬────╯\n",
    "         5      <= 3\n",
    "#        ╰──────┬──╯\n",
    "              False"
   ]
  },
  {
   "cell_type": "code",
   "execution_count": null,
   "metadata": {},
   "outputs": [],
   "source": [
    "## procedury\n",
    "##-------------------------\n",
    "# Funkcím, které nic nevrací (jen něco udělají) se občas říká procedury. V Pythonu není hranice mezi „normální“ funkcí a procedurou příliš ostrá, ale přesto se hodí tento koncept znát. Pár příkladů:\n",
    "\n",
    "# Funkce, která vybere náhodné číslo, je „normální“. Svůj výsledek vrátí; program s ním může dál pracovat.\n",
    "\n",
    "#Funkce, která vykreslí na obrazovku kolečko, je procedura. Žádnou zajímavou hodnotu programu nevrací.\n",
    "\n",
    "# Funkce, která spočítá průměrný věk obyvatelstva podle informací ze sčítání lidu je „normální“. Svůj výsledek vrátí a program s ním může dál pracovat.\n",
    "\n",
    "# Funkce, která přehraje písničku reproduktorem, je procedura. Nic zajímavého programu nevrací.\n",
    "\n"
   ]
  },
  {
   "cell_type": "code",
   "execution_count": 1,
   "metadata": {},
   "outputs": [
    {
     "name": "stdout",
     "output_type": "stream",
     "text": "1 2 3\nJedna plus dva je 3\n\n"
    }
   ],
   "source": [
    "## argumenty\n",
    "\n",
    "## Argument je to, co funkci dáš k dispozici. Hodnota, se kterou funkce pracuje. \n",
    "print(1, 2, 3)\n",
    "print(\"Jedna plus dva je\", 1 + 2)\n",
    "\n",
    "## Některé funkce nepotřebují žádný argument.\n",
    "# Funkce print zavolaná bez argumentů napíše prázdný řádek.\n",
    "print()"
   ]
  },
  {
   "cell_type": "code",
   "execution_count": 3,
   "metadata": {},
   "outputs": [
    {
     "name": "stdout",
     "output_type": "stream",
     "text": "1, 2, 3, 4\n1 + 2 = 3!\n"
    }
   ],
   "source": [
    "## pojmenovane argumenty\n",
    "\n",
    "## Třeba funkce print při výpisu odděluje jednotlivé argumenty mezerou, ale pomocí argumentu sep se dá použít i něco jiného.\n",
    "\n",
    "print(1, 2, 3, 4, sep=', ')     # Místo mezery odděluj čárkou\n",
    "\n",
    "print('1 + 2', end=' ')     # Místo přechodu na nový řádek jen napiš mezeru\n",
    "print('=', end=' ')\n",
    "print(1 + 2, end='!')\n",
    "print()"
   ]
  },
  {
   "cell_type": "code",
   "execution_count": 4,
   "metadata": {},
   "outputs": [
    {
     "name": "stdout",
     "output_type": "stream",
     "text": "1 dvě False\n1 2, 3, 4\n"
    }
   ],
   "source": [
    "## vstup a vystup\n",
    "\n",
    "print(1, 'dvě', False)\n",
    "print(1, end=' ')\n",
    "print(2, 3, 4, sep=', ')\n",
    "\n",
    "## Funkce input vrací hodnotu, se kterou může program dál pracovat. Zařadil bych ji tedy mezi „normální“ funkce.\n",
    "# Jako argument bere input otázku, na kterou se uživatele zeptá.\n",
    "# Návratová hodnota funkce input je řetězec s odpovědí uživatele.\n",
    "\n",
    "input('zadej vstup: ')\n"
   ]
  },
  {
   "cell_type": "code",
   "execution_count": null,
   "metadata": {},
   "outputs": [],
   "source": [
    "## prevadeni typu\n",
    "int(x)              # převod na celé číslo\n",
    "float(x)            # převod na reálné číslo\n",
    "str(x)              # převod na řetězec\n",
    "\n",
    "## priklady\n",
    "3 == int('3') == int(3.0) == int(3.141) == int(3)\n",
    "8.12 == float('8.12') == float(8.12)\n",
    "8.0 == float(8) == float('8') == float(8.0)\n",
    "'3' == str(3) == str('3')\n",
    "'3.141' == str(3.141) == str('3.141')"
   ]
  },
  {
   "cell_type": "code",
   "execution_count": 5,
   "metadata": {},
   "outputs": [],
   "source": [
    "## prevadeni A input\n",
    "cislo = int(input('Zadej číslo: '))\n",
    "\n",
    "#cislo = int(input('Zadej číslo: '))\n",
    "      #     ╰─────────┬─────────╯\n",
    "#cislo = int(        '42'          )\n",
    "      # ╰────────────┬────────────╯\n",
    "#cislo =             42"
   ]
  },
  {
   "cell_type": "code",
   "execution_count": 6,
   "metadata": {},
   "outputs": [
    {
     "data": {
      "text/plain": "42"
     },
     "execution_count": 6,
     "metadata": {},
     "output_type": "execute_result"
    }
   ],
   "source": [
    "## matematicke funkce\n",
    "round(cislo)    # zaokrouhlení\n",
    "\n",
    "from math import sqrt, floor, ceil\n",
    "\n",
    "sqrt(cislo)                 # druhá odmocnina\n",
    "\n",
    "floor(cislo)                # zaokrouhlení dolů\n",
    "ceil(cislo)                 # zaokrouhlení nahoru\n",
    "\n",
    "from math import sin, cos, tan, degrees, radians\n",
    "sin(uhel)       # sinus\n",
    "cos(uhel)       # kosinus\n",
    "tan(uhel)       # tangens\n",
    "\n",
    "degrees(uhel)   # převod z radiánů na stupně\n",
    "radians(uhel)   # převod ze stupňů na radiány"
   ]
  },
  {
   "cell_type": "code",
   "execution_count": null,
   "metadata": {},
   "outputs": [],
   "source": [
    "## nahoda\n",
    "from random import randrange, uniform\n",
    "\n",
    "randrange(a, b)   # náhodné celé číslo od a do b-1\n",
    "uniform(a, b)     # náhodné reálné číslo od a do b\n",
    "\n",
    "from random import randrange\n",
    "\n",
    "cislo = randrange(0, 3)  # číslo je 0, 1, nebo 2\n",
    "if cislo == 0:\n",
    "    print('Kolečko')\n",
    "elif cislo == 1:\n",
    "    print('Čtvereček')\n",
    "else:  # tady musí být číslo 2\n",
    "    print('Trojúhelníček')"
   ]
  },
  {
   "cell_type": "code",
   "execution_count": null,
   "metadata": {},
   "outputs": [],
   "source": [
    "## vestavene funkce\n",
    "# https://docs.python.org/3/library/functions.html\n",
    "\n",
    "## matematika\n",
    "# https://docs.python.org/3/library/math.html"
   ]
  }
 ]
}