{
 "nbformat": 4,
 "nbformat_minor": 2,
 "metadata": {
  "language_info": {
   "name": "python",
   "codemirror_mode": {
    "name": "ipython",
    "version": 3
   },
   "version": "3.7.1-final"
  },
  "orig_nbformat": 2,
  "file_extension": ".py",
  "mimetype": "text/x-python",
  "name": "python",
  "npconvert_exporter": "python",
  "pygments_lexer": "ipython3",
  "version": 3,
  "kernelspec": {
   "name": "python37164bit7f0e7b598a744d1097a1b195bb1e9d19",
   "display_name": "Python 3.7.1 64-bit"
  }
 },
 "cells": [
  {
   "cell_type": "code",
   "execution_count": null,
   "metadata": {},
   "outputs": [],
   "source": [
    "3 + 4"
   ]
  },
  {
   "cell_type": "code",
   "execution_count": null,
   "metadata": {},
   "outputs": [],
   "source": [
    "print(\"Ahoj svete!\")"
   ]
  },
  {
   "cell_type": "code",
   "execution_count": 2,
   "metadata": {},
   "outputs": [
    {
     "name": "stdout",
     "output_type": "stream",
     "text": "1\n1 2 3\n2\n24\n7.8\n42.0\n********************************************************************************\nAhoj PyLadies!\nSoučet čísel 3 a 8 je 11\nMáma má mísu\n"
    }
   ],
   "source": [
    "print(1)\n",
    "print(1, 2, 3)\n",
    "print(1 + 1)\n",
    "print(3 * 8)\n",
    "print(10 - 2.2)\n",
    "print(3 + (4 + 6) * 8 / 2 - 1)\n",
    "print('*' * 80)\n",
    "print(\"Ahoj\" + \" \" + \"PyLadies!\")\n",
    "print(\"Součet čísel 3 a 8 je\", 3 + 8)\n",
    "print('Máma má mísu')"
   ]
  },
  {
   "cell_type": "code",
   "execution_count": null,
   "metadata": {},
   "outputs": [],
   "source": []
  }
 ]
}