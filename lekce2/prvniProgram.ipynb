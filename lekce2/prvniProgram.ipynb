{
 "cells": [
  {
   "cell_type": "code",
   "execution_count": null,
   "metadata": {},
   "outputs": [],
   "source": [
    "3 + 4"
   ]
  },
  {
   "cell_type": "code",
   "execution_count": null,
   "metadata": {},
   "outputs": [],
   "source": [
    "print(\"Ahoj svete!\")"
   ]
  },
  {
   "cell_type": "code",
   "execution_count": 2,
   "metadata": {},
   "outputs": [
    {
     "name": "stdout",
     "output_type": "stream",
     "text": [
      "1\n",
      "1 2 3\n",
      "2\n",
      "24\n",
      "7.8\n",
      "42.0\n",
      "********************************************************************************\n",
      "Ahoj PyLadies!\n",
      "Součet čísel 3 a 8 je 11\n",
      "Máma má mísu\n"
     ]
    }
   ],
   "source": [
    "print(1)\n",
    "print(1, 2, 3)\n",
    "print(1 + 1)\n",
    "print(3 * 8)\n",
    "print(10 - 2.2)\n",
    "print(3 + (4 + 6) * 8 / 2 - 1)\n",
    "print('*' * 80)\n",
    "print(\"Ahoj\" + \" \" + \"PyLadies!\")\n",
    "print(\"Součet čísel 3 a 8 je\", 3 + 8)\n",
    "print('Máma má mísu')"
   ]
  },
  {
   "cell_type": "code",
   "execution_count": null,
   "metadata": {},
   "outputs": [],
   "source": []
  }
 ],
 "metadata": {
  "file_extension": ".py",
  "jupytext": {
   "formats": "ipynb,py"
  },
  "kernelspec": {
   "display_name": "Python 3.7.1 64-bit",
   "name": "python37164bit7f0e7b598a744d1097a1b195bb1e9d19"
  },
  "language_info": {
   "codemirror_mode": {
    "name": "ipython",
    "version": 3
   },
   "name": "python",
   "version": "3.7.1-final"
  },
  "mimetype": "text/x-python",
  "name": "python",
  "npconvert_exporter": "python",
  "pygments_lexer": "ipython3",
  "version": 3
 },
 "nbformat": 4,
 "nbformat_minor": 2
}
