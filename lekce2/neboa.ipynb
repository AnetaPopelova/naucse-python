{
 "nbformat": 4,
 "nbformat_minor": 2,
 "metadata": {
  "language_info": {
   "name": "python",
   "codemirror_mode": {
    "name": "ipython",
    "version": 3
   }
  },
  "orig_nbformat": 2,
  "file_extension": ".py",
  "mimetype": "text/x-python",
  "name": "python",
  "npconvert_exporter": "python",
  "pygments_lexer": "ipython3",
  "version": 3
 },
 "cells": [
  {
   "cell_type": "code",
   "execution_count": null,
   "metadata": {},
   "outputs": [],
   "source": [
    "a = float(input(\"Zadej první stranu obdélníka: \")\n",
    "b = float(input(\"Zadej druhou stranu obdélníka: \")\n",
    "\n",
    "if a <= 0 or b <= 0:\n",
    "    print(\"Délka nemůže být záporná!\")"
   ]
  },
  {
   "cell_type": "code",
   "execution_count": null,
   "metadata": {},
   "outputs": [],
   "source": [
    "# Tento program rozdává nejapné rady do života.\n",
    "\n",
    "print('Odpovídej \"ano\" nebo \"ne\".')\n",
    "stastna_retezec = input('Jsi šťastná? ')\n",
    "if stastna_retezec == 'ano' or stastna_retezec == 'Ano':\n",
    "    stastna = True\n",
    "elif stastna_retezec == 'ne' or stastna_retezec == 'Ne':\n",
    "    stastna = False\n",
    "else:\n",
    "    print('Nerozumím!')\n",
    "\n",
    "bohata_retezec = input('Jsi bohatá? ')\n",
    "if bohata_retezec == 'ano' or bohata_retezec == 'Ano':\n",
    "    bohata = True\n",
    "elif bohata_retezec == 'ne' or bohata_retezec == 'Ne':\n",
    "    bohata = False\n",
    "else:\n",
    "    print('Nerozumím!')\n",
    "\n",
    "if bohata and stastna:\n",
    "    # Je bohatá a zároveň štǎstná, ta se má.\n",
    "    print('Gratuluji!')\n",
    "elif bohata:\n",
    "    # Je bohatá, ale není „bohatá a zároveň šťastná“,\n",
    "    # takže musí být jen bohatá.\n",
    "    print('Zkus se víc usmívat.')\n",
    "elif stastna:\n",
    "    # Tady musí být jen šťastná.\n",
    "    print('Zkus míň utrácet.')\n",
    "else:\n",
    "    # A tady víme, že není ani šťastná, ani bohatá.\n",
    "    print('To je mi líto.')"
   ]
  }
 ]
}