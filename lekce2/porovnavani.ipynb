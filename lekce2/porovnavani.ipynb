{
 "nbformat": 4,
 "nbformat_minor": 2,
 "metadata": {
  "language_info": {
   "name": "python",
   "codemirror_mode": {
    "name": "ipython",
    "version": 3
   }
  },
  "orig_nbformat": 2,
  "file_extension": ".py",
  "mimetype": "text/x-python",
  "name": "python",
  "npconvert_exporter": "python",
  "pygments_lexer": "ipython3",
  "version": 3
 },
 "cells": [
  {
   "cell_type": "code",
   "execution_count": null,
   "metadata": {},
   "outputs": [],
   "source": [
    "pravda = 1 < 3\n",
    "print(pravda)\n",
    "\n",
    "nepravda = 1 == 3\n",
    "print(nepravda)"
   ]
  },
  {
   "cell_type": "code",
   "execution_count": null,
   "metadata": {},
   "outputs": [],
   "source": [
    "# pozor na velka pismena na zacatku\n",
    "print(True)\n",
    "print(False)"
   ]
  },
  {
   "cell_type": "code",
   "execution_count": null,
   "metadata": {},
   "outputs": [],
   "source": [
    "## podminky\n",
    "strana = float(input('Zadej stranu čtverce v centimetrech: '))\n",
    "cislo_je_spravne = strana > 0\n",
    "\n",
    "if cislo_je_spravne:\n",
    "    print('Obvod čtverce se stranou', strana, 'je', 4 * strana, 'cm')\n",
    "    print('Obsah čtverce se stranou', strana, 'je', strana * strana, 'cm2')\n",
    "else:\n",
    "    print('Strana musí být kladná, jinak z toho nebude čtverec!')\n",
    "\n",
    "print('Děkujeme za použití geometrické kalkulačky.')"
   ]
  },
  {
   "cell_type": "code",
   "execution_count": null,
   "metadata": {},
   "outputs": [],
   "source": [
    "cislo = int(input('Zadej číslo, přičtu k němu 3: '))\n",
    "if cislo == 0:\n",
    "    print('Jé, to je jednoduché!')\n",
    "print(cislo, '+ 3 =', cislo + 3)"
   ]
  },
  {
   "cell_type": "code",
   "execution_count": null,
   "metadata": {},
   "outputs": [],
   "source": [
    "vek = int(input('Kolik ti je let? '))\n",
    "if vek >= 150:\n",
    "    print('A ze kterépak jsi planety?')\n",
    "elif vek >= 18:\n",
    "    # Tahle větev se např. pro \"200\" už neprovede.\n",
    "    print('Můžeme nabídnout: víno, cider, nebo vodku.')\n",
    "elif vek >= 1:\n",
    "    print('Můžeme nabídnout: mléko, čaj, nebo vodu')\n",
    "elif vek >= 0:\n",
    "    print('Sunar už bohužel došel.')\n",
    "else:\n",
    "    # Nenastala ani nedna ze situací výše – muselo to být záporné\n",
    "    print('Pro návštěvy z budoucnosti bohužel nemáme nic v nabídce.')"
   ]
  },
  {
   "cell_type": "code",
   "execution_count": null,
   "metadata": {},
   "outputs": [],
   "source": []
  }
 ]
}