{
 "cells": [
  {
   "cell_type": "code",
   "execution_count": null,
   "metadata": {},
   "outputs": [],
   "source": [
    "#  obvod a obsah čtverce se stranou 356 cm\n",
    "print('Obvod čtverce se stranou 356 cm je', 4 * 356, 'cm')\n",
    "print('Obsah čtverce se stranou 356 cm je', 356 * 356, 'cm2')\n",
    "\n",
    "# obsah a obvod čtverce o straně 123 cm\n",
    "print('Obvod čtverce se stranou 123 cm je', 4 * 123, 'cm')\n",
    "print('Obsah čtverce se stranou 123 cm je', 123 * 123, 'cm2')"
   ]
  },
  {
   "cell_type": "code",
   "execution_count": null,
   "metadata": {},
   "outputs": [],
   "source": [
    "strana = 123\n",
    "print('Obvod čtverce se stranou', strana, 'je', 4 * strana, 'cm')\n",
    "print('Obsah čtverce se stranou', strana, 'je', strana * strana, 'cm2')"
   ]
  },
  {
   "cell_type": "code",
   "execution_count": null,
   "metadata": {},
   "outputs": [],
   "source": [
    "## nacitani vstupu\n",
    "\n",
    "# Chceš-li načíst text, použij:\n",
    "promenna = input('Zadej text: ')\n",
    "\n",
    "# Chceš-li načíst celé číslo, použij:\n",
    "promenna = int(input('Zadej číslo: '))\n",
    "\n",
    "# Chceš-li načíst desetinné číslo, použij:\n",
    "promenna = float(input('Zadej číslo: '))\n",
    "\n"
   ]
  },
  {
   "cell_type": "code",
   "execution_count": null,
   "metadata": {},
   "outputs": [],
   "source": []
  }
 ],
 "metadata": {
  "file_extension": ".py",
  "jupytext": {
   "formats": "ipynb,py"
  },
  "language_info": {
   "codemirror_mode": {
    "name": "ipython",
    "version": 3
   },
   "name": "python"
  },
  "mimetype": "text/x-python",
  "name": "python",
  "npconvert_exporter": "python",
  "pygments_lexer": "ipython3",
  "version": 3
 },
 "nbformat": 4,
 "nbformat_minor": 2
}
