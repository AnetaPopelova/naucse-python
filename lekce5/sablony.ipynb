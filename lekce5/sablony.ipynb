{
 "nbformat": 4,
 "nbformat_minor": 2,
 "metadata": {
  "language_info": {
   "name": "python",
   "codemirror_mode": {
    "name": "ipython",
    "version": 3
   },
   "version": "3.7.1-final"
  },
  "orig_nbformat": 2,
  "file_extension": ".py",
  "mimetype": "text/x-python",
  "name": "python",
  "npconvert_exporter": "python",
  "pygments_lexer": "ipython3",
  "version": 3,
  "kernelspec": {
   "name": "python37164bit7f0e7b598a744d1097a1b195bb1e9d19",
   "display_name": "Python 3.7.1 64-bit"
  }
 },
 "cells": [
  {
   "cell_type": "code",
   "execution_count": null,
   "metadata": {},
   "outputs": [],
   "source": [
    "# Takovou šablonu si představ jako formulář s vynechanými místy. \n",
    "\n",
    "## Aby Python věděl, do kterého vynechaného místa co doplnit, je potřeba jednotlivá vynechaná místa ve formuláři nějak jednoznačně označit. Použijme jména v „kudrnatých“ závorkách:\n",
    "\n",
    "# Součet je __________. / Součet je {soucet}.\n",
    "\n",
    "# Mil[ý/á] _______, / Mil{y_a} {osloveni},\n",
    "# Váš výsledek je __________. / Váš výsledek je {soucet}.\n",
    "\n",
    "# S pozdravem, / S pozdravem,\n",
    "# _________ / {podpis}."
   ]
  },
  {
   "cell_type": "code",
   "execution_count": 2,
   "metadata": {},
   "outputs": [
    {
     "name": "stdout",
     "output_type": "stream",
     "text": "Součet je 7. \n"
    }
   ],
   "source": [
    "# Takovou šablonu můžeš použít jako formátovací řetězec (angl. formatted string literal, zkráceně f-string). Jako jakýkoli jiný řetězec ji vlož do uvozovek. A aby bylo jasné, že jde o šablonu, před první uvozovky přidej navíc značku f.\n",
    "\n",
    "soucet = 3 + 4\n",
    "hlaska = f'Součet je {soucet}. '\n",
    "print(hlaska)"
   ]
  },
  {
   "cell_type": "code",
   "execution_count": 3,
   "metadata": {},
   "outputs": [
    {
     "name": "stdout",
     "output_type": "stream",
     "text": "\nMilá Anežko,\nVáš výsledek je 7.\n\nS pozdravem,\nVáš Program\n\n"
    }
   ],
   "source": [
    "y_a = 'á'\n",
    "osloveni = 'Anežko'\n",
    "soucet = 3 + 4\n",
    "podpis = 'Váš Program'\n",
    "\n",
    "print(f\"\"\"\n",
    "Mil{y_a} {osloveni},\n",
    "Váš výsledek je {soucet}.\n",
    "\n",
    "S pozdravem,\n",
    "{podpis}\n",
    "\"\"\")"
   ]
  },
  {
   "cell_type": "code",
   "execution_count": 4,
   "metadata": {},
   "outputs": [
    {
     "data": {
      "text/plain": "'Součet je 7'"
     },
     "execution_count": 4,
     "metadata": {},
     "output_type": "execute_result"
    }
   ],
   "source": [
    "f'Součet je {3 + 4}'"
   ]
  },
  {
   "cell_type": "code",
   "execution_count": 5,
   "metadata": {},
   "outputs": [
    {
     "name": "stdout",
     "output_type": "stream",
     "text": "Ahoj Anežko! Tvoje číslo 7.\nAhoj Elvíro! Tvoje číslo 42.\nAhoj Viléme! Tvoje číslo 3.\n3 krát 4 je 12\n"
    }
   ],
   "source": [
    "### metoda format\n",
    "\n",
    "## Někdy se stane, že jednu šablonu potřebuješ použít vícekrát. Pak formátovací řetězec použít nemůžeš, protože se do něj proměnné doplňují automaticky a hned. V takovém případě můžeš šablonu napsat do normálního řetězce (bez f na začátku) a použít metodu format:\n",
    "sablona = 'Ahoj {jmeno}! Tvoje číslo {cislo}.'\n",
    "print(sablona.format(cislo=7, jmeno='Anežko'))\n",
    "print(sablona.format(cislo=42, jmeno='Elvíro'))\n",
    "print(sablona.format(cislo=3, jmeno='Viléme'))\n",
    "\n",
    "\n",
    "## Oproti formátovacím řetězcům umí format užitečnou zkratku: nepojmenované argumenty dosadí postupně do nepojmenovaných míst v šabloně:\n",
    "vypis = '{} krát {} je {}'.format(3, 4, 3 * 4)\n",
    "print(vypis)"
   ]
  },
  {
   "cell_type": "code",
   "execution_count": null,
   "metadata": {},
   "outputs": [],
   "source": []
  }
 ]
}