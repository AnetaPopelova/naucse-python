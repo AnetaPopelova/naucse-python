{
 "nbformat": 4,
 "nbformat_minor": 2,
 "metadata": {
  "language_info": {
   "name": "python",
   "codemirror_mode": {
    "name": "ipython",
    "version": 3
   },
   "version": "3.7.1-final"
  },
  "orig_nbformat": 2,
  "file_extension": ".py",
  "mimetype": "text/x-python",
  "name": "python",
  "npconvert_exporter": "python",
  "pygments_lexer": "ipython3",
  "version": 3,
  "kernelspec": {
   "name": "python37164bit7f0e7b598a744d1097a1b195bb1e9d19",
   "display_name": "Python 3.7.1 64-bit"
  }
 },
 "cells": [
  {
   "cell_type": "code",
   "execution_count": 1,
   "metadata": {},
   "outputs": [
    {
     "name": "stdout",
     "output_type": "stream",
     "text": "Haló haló!\nCo se stalo?\nVtom vnuk křik': \"Hleď!\"\n\"Jen ho nech,\" řek' děd. \"Kdo zná líp kraj?\"\n"
    }
   ],
   "source": [
    "# zpetne lomitko\n",
    "\n",
    "print('Haló haló!\\nCo se stalo?')\n",
    "\n",
    "print(\"Vtom vnuk křik': \\\"Hleď!\\\"\")\n",
    "print('\"Jen ho nech,\" řek\\' děd. \"Kdo zná líp kraj?\"')"
   ]
  },
  {
   "cell_type": "code",
   "execution_count": 2,
   "metadata": {},
   "outputs": [
    {
     "name": "stdout",
     "output_type": "stream",
     "text": "--ł--\n--§--\n--‰--\n--★--\n--☃--\n--ツ--\n"
    }
   ],
   "source": [
    "print('--\\N{LATIN SMALL LETTER L WITH STROKE}--')\n",
    "print('--\\N{SECTION SIGN}--')\n",
    "print('--\\N{PER MILLE SIGN}--')\n",
    "print('--\\N{BLACK STAR}--')\n",
    "print('--\\N{SNOWMAN}--')\n",
    "print('--\\N{KATAKANA LETTER TU}--')"
   ]
  },
  {
   "cell_type": "code",
   "execution_count": 3,
   "metadata": {},
   "outputs": [
    {
     "name": "stdout",
     "output_type": "stream",
     "text": "C:\\PyLadies\\Nový adresář\n"
    }
   ],
   "source": [
    "## pokud chceš použít zpětné lomítko (třeba ve jménech souborů na Windows), musíš ho ve zdrojovém kódu zdvojit. Sekvence \\\\ znamená „jedno zpětné lomítko“.\n",
    "\n",
    "print('C:\\\\PyLadies\\\\Nový adresář')"
   ]
  },
  {
   "cell_type": "code",
   "execution_count": 5,
   "metadata": {},
   "outputs": [
    {
     "name": "stdout",
     "output_type": "stream",
     "text": "Haló haló!\nCo se stalo?\nPrase kozu potrkalo!\n"
    }
   ],
   "source": [
    "basen = '''Haló haló!\n",
    "Co se stalo?\n",
    "Prase kozu potrkalo!'''\n",
    "\n",
    "print(basen)\n",
    "\n",
    "## dlouhé texty nachází uplatnění třeba v dokumentačních řetězcích u funkcí\n",
    "def vynasob(a, b):\n",
    "    \"\"\"Vynásobí argumenty a vrátí výsledek.\n",
    "\n",
    "    Oba argumenty by měly být čísla.\n",
    "    \"\"\"\n",
    "\n",
    "    return a * b"
   ]
  },
  {
   "cell_type": "code",
   "execution_count": 11,
   "metadata": {},
   "outputs": [
    {
     "name": "stdout",
     "output_type": "stream",
     "text": "ab\nóóóóóóóóóó\ná\na\nd\ná\nl\n"
    }
   ],
   "source": [
    "## vyber znaku\n",
    "spojeny_retezec = 'a' + 'b'\n",
    "print(spojeny_retezec)\n",
    "\n",
    "dlouhy_retezec = 'ó' * 10\n",
    "print(dlouhy_retezec)\n",
    "\n",
    "#   [0] [1] [2] [3] [4] [5] [6] [7]\n",
    "#   [-8][-7][-6][-5][-4][-3][-2][-1]\n",
    "#  ╭───┬───┬───┬───┬───┬───┬───┬───╮\n",
    "#  │ Č │ o │ k │ o │ l │ á │ d │ a │\n",
    "#  ╰───┴───┴───┴───┴───┴───┴───┴───╯\n",
    "\n",
    "pate_pismeno = 'čokoláda'[5]\n",
    "print(pate_pismeno)\n",
    "\n",
    "print('Čokoláda'[-1])  # → a\n",
    "print('Čokoláda'[-2])  # → d\n",
    "print('Čokoláda'[-3])  # → á\n",
    "print('Čokoláda'[-4])  # → l\n"
   ]
  },
  {
   "cell_type": "code",
   "execution_count": 13,
   "metadata": {},
   "outputs": [
    {
     "ename": "SyntaxError",
     "evalue": "EOL while scanning string literal (<ipython-input-13-d1ee9859c950>, line 5)",
     "output_type": "error",
     "traceback": [
      "\u001b[1;36m  File \u001b[1;32m\"<ipython-input-13-d1ee9859c950>\"\u001b[1;36m, line \u001b[1;32m5\u001b[0m\n\u001b[1;33m    'dub' not in 'čokoláda\u001b[0m\n\u001b[1;37m                          ^\u001b[0m\n\u001b[1;31mSyntaxError\u001b[0m\u001b[1;31m:\u001b[0m EOL while scanning string literal\n"
     ]
    }
   ],
   "source": [
    "## můžeš zjistit, jak je řetězec dlouhý nebo jestli v sobě obsahuje daný menší řetězec\n",
    "\n",
    "len('čokoláda')\n",
    "\n",
    "## Řetězce vždy berou v potaz velikost písmen, takže např. 'ČOKO' in 'čokoláda' je False. \n",
    "\n",
    "# 'oko' in 'čokoláda'\n",
    "# 'dub' not in 'čokoláda\n"
   ]
  },
  {
   "cell_type": "code",
   "execution_count": 14,
   "metadata": {},
   "outputs": [
    {
     "name": "stdout",
     "output_type": "stream",
     "text": "AHOJ\nahoj\nAhoj\n"
    }
   ],
   "source": [
    "## metody\n",
    "\n",
    "## Na rozdíl od funkce je svázaná s nějakým objektem (hodnotou). Volá se tak, že se za objekt napíše tečka, za ní jméno metody a za to celé se, jako u funkcí, připojí závorky s případnými argumenty.\n",
    "\n",
    "retezec = 'Ahoj'\n",
    "print(retezec.upper())\n",
    "print(retezec.lower())\n",
    "print(retezec)"
   ]
  },
  {
   "cell_type": "code",
   "execution_count": 19,
   "metadata": {},
   "outputs": [
    {
     "name": "stdout",
     "output_type": "stream",
     "text": "Iniciály: AP\nIniciály: AP\n"
    }
   ],
   "source": [
    "## Iniciály\n",
    "\n",
    "jmeno = input('Zadej jméno: ')\n",
    "prijmeni = input('Zadej příjmení ')\n",
    "inicialy = jmeno[0] + prijmeni[0]\n",
    "print('Iniciály:', inicialy.upper())\n",
    "\n",
    "print('Iniciály:', (jmeno[0] + prijmeni[0]).upper())"
   ]
  },
  {
   "cell_type": "code",
   "execution_count": 21,
   "metadata": {},
   "outputs": [
    {
     "name": "stdout",
     "output_type": "stream",
     "text": "áda\nčoko\nkol\nláda\n"
    }
   ],
   "source": [
    "## Sekání řetězců\n",
    "\n",
    "retezec = 'čokoláda'\n",
    "print(retezec[5:])\n",
    "print(retezec[:4])\n",
    "print(retezec[2:5])\n",
    "print(retezec[-4:])"
   ]
  },
  {
   "cell_type": "code",
   "execution_count": null,
   "metadata": {},
   "outputs": [],
   "source": [
    "# ╭───┬───┬───┬───┬───┬───┬───┬───╮\n",
    "#   │ Č │ o │ k │ o │ l │ á │ d │ a │\n",
    "#   ├───┼───┼───┼───┼───┼───┼───┼───┤\n",
    "#   │   │   │   │   │   │   │   │   │\n",
    "#   0   1   2   3   4   5   6   7   8\n",
    "#  -8  -7  -6  -5  -4  -3  -2  -1\n",
    "\n",
    "#   ╰───────────────╯\n",
    "#   'čokoláda'[:4] == 'čoko'\n",
    "\n",
    "#           ╰───────────────╯\n",
    "#         'čokoláda'[2:6] == 'kolá'\n",
    "\n",
    "#                       ╰───────────╯\n",
    "#                       'čokoláda'[-3:] == 'áda'"
   ]
  },
  {
   "cell_type": "code",
   "execution_count": 26,
   "metadata": {},
   "outputs": [
    {
     "data": {
      "text/plain": "'valec'"
     },
     "execution_count": 26,
     "metadata": {},
     "output_type": "execute_result"
    }
   ],
   "source": [
    "# Zkus napsat funkci zamen(retezec, pozice, znak).\n",
    "# Tato funkce vrátí řetězec, který má na dané pozici daný znak; jinak je stejný jako původní retezec. Např:\n",
    "\n",
    "# zamen('palec', 0, 'v') == 'valec'\n",
    "# zamen('valec', 2, 'j') == 'vajec'\n",
    "\n",
    "def zamen(retezec, pozice, znak):\n",
    "    return retezec[:pozice] + znak + retezec[pozice + 1:]\n",
    "    \n",
    "zamen('palec', 0, 'v')"
   ]
  },
  {
   "cell_type": "code",
   "execution_count": null,
   "metadata": {},
   "outputs": [],
   "source": []
  }
 ]
}