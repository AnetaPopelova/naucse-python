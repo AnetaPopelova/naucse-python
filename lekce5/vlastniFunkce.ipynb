{
 "nbformat": 4,
 "nbformat_minor": 2,
 "metadata": {
  "language_info": {
   "name": "python",
   "codemirror_mode": {
    "name": "ipython",
    "version": 3
   },
   "version": "3.7.1-final"
  },
  "orig_nbformat": 2,
  "file_extension": ".py",
  "mimetype": "text/x-python",
  "name": "python",
  "npconvert_exporter": "python",
  "pygments_lexer": "ipython3",
  "version": 3,
  "kernelspec": {
   "name": "python37164bit7f0e7b598a744d1097a1b195bb1e9d19",
   "display_name": "Python 3.7.1 64-bit"
  }
 },
 "cells": [
  {
   "cell_type": "code",
   "execution_count": null,
   "metadata": {},
   "outputs": [],
   "source": [
    "# Funkce se definuje příkazem def, za nějž napíšeš jméno funkce, pak do závorky seznam argumentů, které funkce bere, a pak dvojtečku.\n",
    "\n",
    "# Potom následuje odsazené tělo funkce – příkazy, které funkce provádí. Tělo může začít dokumentačním řetězcem, který popisuje, co funkce dělá.\n",
    "\n",
    "# Příkazem return pak můžeš z funkce vrátit nějakou hodnotu.\n",
    "\n",
    "\n",
    "def obvod_obdelnika(sirka, vyska):\n",
    "    \"Vrátí obvod obdélníka daných rozměrů\"\n",
    "    return 2 * (sirka + vyska)\n",
    "\n",
    "print(obvod_obdelnika(4, 2))"
   ]
  },
  {
   "cell_type": "code",
   "execution_count": null,
   "metadata": {},
   "outputs": [],
   "source": [
    "# Speciální příkaz return, který jde použít jenom ve funkcích, ukončí funkci a vrátí danou hodnotu ven z funkce.\n",
    "\n",
    "# Chová se tedy trochu jako break, jen místo cyklu opouští celou funkci.\n",
    "\n",
    "def ano_nebo_ne(otazka):\n",
    "    \"Vrátí True nebo False, podle odpovědi uživatele\"\n",
    "    while True:\n",
    "        odpoved = input(otazka)\n",
    "        if odpoved == 'ano':\n",
    "            return True\n",
    "        elif odpoved == 'ne':\n",
    "            return False\n",
    "        else:\n",
    "            print('Nerozumím! Odpověz \"ano\" nebo \"ne\".')\n",
    "\n",
    "if ano_nebo_ne('Chceš si zahrát hru? '):\n",
    "    print('OK! Ale napřed si ji musíš naprogramovat.')\n",
    "else:\n",
    "    print('Škoda.')"
   ]
  },
  {
   "cell_type": "code",
   "execution_count": 2,
   "metadata": {},
   "outputs": [
    {
     "name": "stdout",
     "output_type": "stream",
     "text": "Obsah elipsy je 47.12388980384689 cm2. \n"
    }
   ],
   "source": [
    "## Zkus napsat funkci, která vrátí obsah elipsy daných rozměrů. Příslušný vzoreček je A = πab, kde a a b jsou délky os.\n",
    "\n",
    "from math import pi\n",
    "\n",
    "def obsah_elipsy(a, b):\n",
    "    return pi * a * b\n",
    "\n",
    "print('Obsah elipsy je', obsah_elipsy(3, 5), 'cm2. ')"
   ]
  },
  {
   "cell_type": "code",
   "execution_count": null,
   "metadata": {},
   "outputs": [],
   "source": [
    "## Funkci, která výsledek vrací, můžeš použít v dalších výpočtech:\n",
    "\n",
    "def objem_eliptickeho_valce(a, b, vyska):\n",
    "    return obsah_elipsy(a, b) * vyska\n",
    "\n",
    "print(objem_eliptickeho_valce(3, 5, 3))"
   ]
  },
  {
   "cell_type": "code",
   "execution_count": null,
   "metadata": {},
   "outputs": [],
   "source": [
    "## input\n",
    "\n",
    "##když použiju v rámci své funkce input, bude se moje funkce dát použít jen v situacích, kdy je u počítače klávesnice a za ní člověk. Proto je lepší funkcím potřebné informace předávat jako argumenty a input (nebo textové políčko či měření z čidla robota) nemít ve funkci, ale vně:\n",
    "\n",
    "from math import pi\n",
    "\n",
    "def obsah_elipsy(a, b):\n",
    "    \"\"\"Vrátí obsah elipsy s poloosami daných délek\"\"\"\n",
    "    # Jen samotný výpočet:\n",
    "    return pi * a * b\n",
    "\n",
    "# print a input jsou \"venku\":\n",
    "x = float(input('Zadej délku poloosy 1: '))\n",
    "y = float(input('Zadej délku poloosy 2: '))\n",
    "print('Obsah je', obsah_elipsy(x, y))"
   ]
  },
  {
   "cell_type": "code",
   "execution_count": 3,
   "metadata": {},
   "outputs": [
    {
     "name": "stdout",
     "output_type": "stream",
     "text": "None\n"
    }
   ],
   "source": [
    "## none\n",
    "\n",
    "# Když funkce neskončí příkazem return, automaticky se vrátí hodnota None.\n",
    "\n",
    "def nic():\n",
    "    \"Tahle funkce nic nedělá\"\n",
    "\n",
    "print(nic())\n"
   ]
  },
  {
   "cell_type": "code",
   "execution_count": 5,
   "metadata": {},
   "outputs": [
    {
     "name": "stdout",
     "output_type": "stream",
     "text": "31415.926\n"
    }
   ],
   "source": [
    "## lokalni promenne\n",
    "\n",
    "## Funkce může používat proměnné „zvnějšku“:\n",
    "pi = 3.1415926\n",
    "\n",
    "def obsah_kruhu(polomer):\n",
    "    return pi * polomer ** 2\n",
    "\n",
    "print(obsah_kruhu(100))\n"
   ]
  },
  {
   "cell_type": "code",
   "execution_count": 4,
   "metadata": {},
   "outputs": [
    {
     "name": "stdout",
     "output_type": "stream",
     "text": "0\n"
    }
   ],
   "source": [
    "## Ale všechny argumenty a všechny proměnné, do kterých funkce přiřazuje, jsou úplně nové proměnné, které nemají nic společného s tím, co je „venku“ kolem funkce.\n",
    "\n",
    "x = 0\n",
    "\n",
    "def nastav_x(hodnota):\n",
    "    x = hodnota  # Přiřazení do lokální proměnné!\n",
    "\n",
    "nastav_x(40)\n",
    "print(x)"
   ]
  },
  {
   "cell_type": "code",
   "execution_count": null,
   "metadata": {},
   "outputs": [],
   "source": [
    "## Proměnné, které nejsou lokální, jsou globální – ty existují v celém programu. (Jen ve funkcích, které mají náhodou lokální proměnnou stejného jména, „nejsou vidět“ – to jméno označuje lokální proměnnou.)"
   ]
  }
 ]
}