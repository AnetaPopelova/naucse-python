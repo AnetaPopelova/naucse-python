{
 "nbformat": 4,
 "nbformat_minor": 2,
 "metadata": {
  "language_info": {
   "name": "python",
   "codemirror_mode": {
    "name": "ipython",
    "version": 3
   },
   "version": "3.7.1-final"
  },
  "orig_nbformat": 2,
  "file_extension": ".py",
  "mimetype": "text/x-python",
  "name": "python",
  "npconvert_exporter": "python",
  "pygments_lexer": "ipython3",
  "version": 3,
  "kernelspec": {
   "name": "python37164bit7f0e7b598a744d1097a1b195bb1e9d19",
   "display_name": "Python 3.7.1 64-bit"
  }
 },
 "cells": [
  {
   "cell_type": "code",
   "execution_count": 5,
   "metadata": {},
   "outputs": [
    {
     "ename": "ValueError",
     "evalue": "Čislo 25 není v poli!",
     "output_type": "error",
     "traceback": [
      "\u001b[1;31m---------------------------------------------------------------------------\u001b[0m",
      "\u001b[1;31mValueError\u001b[0m                                Traceback (most recent call last)",
      "\u001b[1;32m<ipython-input-5-2f9b8ebf6fb8>\u001b[0m in \u001b[0;36m<module>\u001b[1;34m\u001b[0m\n\u001b[0;32m     11\u001b[0m         \u001b[1;32mraise\u001b[0m \u001b[0mValueError\u001b[0m\u001b[1;33m(\u001b[0m\u001b[1;34m'Čislo {n} není v poli!'\u001b[0m\u001b[1;33m.\u001b[0m\u001b[0mformat\u001b[0m\u001b[1;33m(\u001b[0m\u001b[0mn\u001b[0m\u001b[1;33m=\u001b[0m\u001b[0mcislo\u001b[0m\u001b[1;33m)\u001b[0m\u001b[1;33m)\u001b[0m\u001b[1;33m\u001b[0m\u001b[1;33m\u001b[0m\u001b[0m\n\u001b[0;32m     12\u001b[0m \u001b[1;33m\u001b[0m\u001b[0m\n\u001b[1;32m---> 13\u001b[1;33m \u001b[0mover_cislo\u001b[0m\u001b[1;33m(\u001b[0m\u001b[1;36m25\u001b[0m\u001b[1;33m)\u001b[0m\u001b[1;33m\u001b[0m\u001b[1;33m\u001b[0m\u001b[0m\n\u001b[0m",
      "\u001b[1;32m<ipython-input-5-2f9b8ebf6fb8>\u001b[0m in \u001b[0;36mover_cislo\u001b[1;34m(cislo)\u001b[0m\n\u001b[0;32m      9\u001b[0m         \u001b[0mprint\u001b[0m\u001b[1;33m(\u001b[0m\u001b[1;34m'OK!'\u001b[0m\u001b[1;33m)\u001b[0m\u001b[1;33m\u001b[0m\u001b[1;33m\u001b[0m\u001b[0m\n\u001b[0;32m     10\u001b[0m     \u001b[1;32melse\u001b[0m\u001b[1;33m:\u001b[0m\u001b[1;33m\u001b[0m\u001b[1;33m\u001b[0m\u001b[0m\n\u001b[1;32m---> 11\u001b[1;33m         \u001b[1;32mraise\u001b[0m \u001b[0mValueError\u001b[0m\u001b[1;33m(\u001b[0m\u001b[1;34m'Čislo {n} není v poli!'\u001b[0m\u001b[1;33m.\u001b[0m\u001b[0mformat\u001b[0m\u001b[1;33m(\u001b[0m\u001b[0mn\u001b[0m\u001b[1;33m=\u001b[0m\u001b[0mcislo\u001b[0m\u001b[1;33m)\u001b[0m\u001b[1;33m)\u001b[0m\u001b[1;33m\u001b[0m\u001b[1;33m\u001b[0m\u001b[0m\n\u001b[0m\u001b[0;32m     12\u001b[0m \u001b[1;33m\u001b[0m\u001b[0m\n\u001b[0;32m     13\u001b[0m \u001b[0mover_cislo\u001b[0m\u001b[1;33m(\u001b[0m\u001b[1;36m25\u001b[0m\u001b[1;33m)\u001b[0m\u001b[1;33m\u001b[0m\u001b[1;33m\u001b[0m\u001b[0m\n",
      "\u001b[1;31mValueError\u001b[0m: Čislo 25 není v poli!"
     ]
    }
   ],
   "source": [
    "## vyvolani chyby\n",
    "\n",
    "## Chybu neboli výjimku (angl. exception) můžeš vyvolat i sám/sama, pomocí příkazu raise. Za příkaz dáš jméno výjimky a pak do závorek nějaký popis toho, co je špatně.\n",
    "\n",
    "VELIKOST_POLE = 20\n",
    "\n",
    "def over_cislo(cislo):\n",
    "    if 0 <= cislo < VELIKOST_POLE:\n",
    "        print('OK!')\n",
    "    else:\n",
    "        raise ValueError('Čislo {n} není v poli!'.format(n=cislo))\n",
    "\n",
    "over_cislo(25)\n"
   ]
  },
  {
   "cell_type": "code",
   "execution_count": 7,
   "metadata": {},
   "outputs": [
    {
     "name": "stdout",
     "output_type": "stream",
     "text": "To nebylo číslo! Pokračuji s nulou.\n"
    },
    {
     "data": {
      "text/plain": "0"
     },
     "execution_count": 7,
     "metadata": {},
     "output_type": "execute_result"
    }
   ],
   "source": [
    "## osetreni chyby\n",
    "\n",
    "# Následující funkce je připravená na to, že funkce int může selhat, pokud uživatel nezadá číslo:\n",
    "\n",
    "def nacti_cislo():\n",
    "    odpoved = input('Zadej číslo: ')\n",
    "    try:\n",
    "        cislo = int(odpoved)\n",
    "    except ValueError:\n",
    "        print('To nebylo číslo! Pokračuji s nulou.')\n",
    "        cislo = 0\n",
    "    return cislo\n",
    "\n",
    "nacti_cislo()\n",
    "\n",
    "# Příkazy v bloku uvozeném příkazem try se normálně provádějí, ale když nastane uvedená výjimka, Python místo ukončení programu provede všechno v bloku except. Když výjimka nenastane, blok except se přeskočí.\n",
    "\n",
    "# Když odchytáváš obecnou výjimku, chytnou se i všechny podřízené typy výjimek – například except ArithmeticError: zachytí i ZeroDivisionError. A except Exception: zachytí všechny výjimky, které běžně chceš zachytit."
   ]
  },
  {
   "cell_type": "code",
   "execution_count": null,
   "metadata": {},
   "outputs": [],
   "source": [
    "# Kromě except existují dva jiné bloky, které můžeš „přilepit“ k try, a to else a finally. První se provede, když v try bloku žádná chyba nenastane; druhý se provede vždy – ať už chyba nastala nebo ne.\n",
    "\n",
    "# Můžeš taky použít více bloků except. Provede se vždy maximálně jeden: ten první, který danou chybu umí ošetřit.\n",
    "\n",
    "try:\n",
    "    neco_udelej()\n",
    "except ValueError:\n",
    "    print('Tohle se provede, pokud nastane ValueError')\n",
    "except NameError:\n",
    "    print('Tohle se provede, pokud nastane NameError')\n",
    "except Exception:\n",
    "    print('Tohle se provede, pokud nastane jiná chyba')\n",
    "    # (kromě SystemExit a KeyboardInterrupt, ty chytat nechceme)\n",
    "except TypeError:\n",
    "    print('Tohle se neprovede nikdy')\n",
    "    # (\"except Exception\" výše ošetřuje i TypeError; sem se Python nedostane)\n",
    "else:\n",
    "    print('Tohle se provede, pokud chyba nenastane')\n",
    "finally:\n",
    "    print('Tohle se provede vždycky; i pokud v `try` bloku byl např. `return`')"
   ]
  },
  {
   "cell_type": "code",
   "execution_count": null,
   "metadata": {},
   "outputs": [],
   "source": [
    "# Možné řešení pro geometrickou kalkulačku:\n",
    "\n",
    "while True:\n",
    "    try:\n",
    "        strana = float(input('Zadej stranu čtverce v centimetrech: '))\n",
    "    except ValueError:\n",
    "        print('To nebylo číslo!')\n",
    "    else:\n",
    "        if strana <= 0:\n",
    "            print('To nedává smysl!')\n",
    "        else:\n",
    "            break\n",
    "\n",
    "print('Obvod čtverce se stranou', strana, 'je', 4 * strana, 'cm')\n",
    "print('Obsah čtverce se stranou', strana, 'je', strana * strana, 'cm2')\n"
   ]
  },
  {
   "cell_type": "code",
   "execution_count": null,
   "metadata": {},
   "outputs": [],
   "source": [
    "# def tah_hrace(pole):\n",
    "    while True:\n",
    "        try:\n",
    "            pozice = int(input('Kam chceš hrát? (0..19) '))\n",
    "        except ValueError:\n",
    "            print('To není číslo!')\n",
    "        else:\n",
    "            if pozice < 0 or pozice >= len(pole):\n",
    "                print('Nemůžeš hrát venku z pole!')\n",
    "            elif pole[pozice] != '-':\n",
    "                print('Tam není volno!')\n",
    "            else:\n",
    "                break\n",
    "\n",
    "    pole = pole[:pozice] + 'o' + pole[pozice + 1:]\n",
    "    return pole\n",
    "\n",
    "\n",
    "print(tah_hrace('-x----'))"
   ]
  }
 ]
}